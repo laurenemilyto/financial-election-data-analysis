{
 "cells": [
  {
   "cell_type": "code",
   "execution_count": 122,
   "id": "2cc31e25",
   "metadata": {},
   "outputs": [],
   "source": [
    "import os\n",
    "import csv\n",
    "\n",
    "#Import pybank.csv file\n",
    "pybank_csv = os.path.join(\"Documents\",\"python_challenge\",\"python_challenge\",\"PyBank\", \"Resources\", \"budget_data1.csv\")"
   ]
  },
  {
   "cell_type": "code",
   "execution_count": 2,
   "id": "974a9ae9",
   "metadata": {},
   "outputs": [],
   "source": [
    "# Initialize null lists\n",
    "dates = []\n",
    "profits = []\n",
    "changes = []"
   ]
  },
  {
   "cell_type": "code",
   "execution_count": 119,
   "id": "e461a6dc",
   "metadata": {},
   "outputs": [],
   "source": [
    "# Read in the CSV file\n",
    "with open (pybank_csv) as csvfile:\n",
    "\n",
    "    # Split the data on commas\n",
    "    csvreader = csv.reader(csvfile, delimiter=',')\n",
    "\n",
    "    #Read the header row\n",
    "    csv_header = next(csvreader)\n",
    "    \n",
    "    #Set last month to 0\n",
    "    last_month = 0\n",
    "    \n",
    "    # Loop through columns, adding data from csv to lists after header\n",
    "    for row in csvreader:\n",
    "        \n",
    "        # Define profit and date variables\n",
    "        profit = int(row[1])\n",
    "        date = str(row[0])\n",
    "        \n",
    "        # Add data to dates and profits lists\n",
    "        dates.append(date)\n",
    "        profits.append(profit)\n",
    "        \n",
    "        # Change = current profit - last months profit\n",
    "        change = profit - last_month \n",
    "        \n",
    "        # Reset last month\n",
    "        last_month = profit  \n",
    "        \n",
    "        # Add data to changes list\n",
    "        changes.append(change)"
   ]
  },
  {
   "cell_type": "code",
   "execution_count": 110,
   "id": "bf225f42",
   "metadata": {},
   "outputs": [],
   "source": [
    "# Use len to find the total number of months \n",
    "total_months = len(dates)"
   ]
  },
  {
   "cell_type": "code",
   "execution_count": 111,
   "id": "403b8f9e",
   "metadata": {},
   "outputs": [],
   "source": [
    "# Use sume to find the total amount of \"Profit/Losses\" over the entire period\n",
    "net_total = sum(profits)"
   ]
  },
  {
   "cell_type": "code",
   "execution_count": 120,
   "id": "216da20b",
   "metadata": {},
   "outputs": [],
   "source": [
    "# Use sum to add up monthly changes within the changes list\n",
    "sum_changes = sum(changes)\n",
    "\n",
    "# Find total average change of changes list over the entire period\n",
    "avg = round(sum_changes/total_months,2) "
   ]
  },
  {
   "cell_type": "code",
   "execution_count": 113,
   "id": "888ba8c4",
   "metadata": {},
   "outputs": [],
   "source": [
    "# Use max to find the greatest increase in profits (amount) over the entire period\n",
    "greatest_increase_amount = max(profits)"
   ]
  },
  {
   "cell_type": "code",
   "execution_count": 114,
   "id": "2fe3bb62",
   "metadata": {},
   "outputs": [],
   "source": [
    "# Use min to find the greatest decrease in losses (amount) over the entire period\n",
    "greatest_decrease_amount = min(profits)"
   ]
  },
  {
   "cell_type": "code",
   "execution_count": 115,
   "id": "f72a27f8",
   "metadata": {},
   "outputs": [],
   "source": [
    "# Use index of greatest_increase_amount to find greatest increase date\n",
    "increase_index = profits.index(greatest_increase_amount)\n",
    "greatest_increase_date = dates[increase_index]"
   ]
  },
  {
   "cell_type": "code",
   "execution_count": 116,
   "id": "e9c9f74e",
   "metadata": {},
   "outputs": [],
   "source": [
    "# Use index of greatest_decrease_amount to find greatest decrease date\n",
    "decrease_index = profits.index(greatest_decrease_amount)\n",
    "greatest_decrease_date = dates[decrease_index]"
   ]
  },
  {
   "cell_type": "code",
   "execution_count": 117,
   "id": "287668b3",
   "metadata": {},
   "outputs": [],
   "source": [
    "# Open & write txt to pybank_results.txt\n",
    "with open (\"pybank_results.txt\", \"w\") as file:\n",
    "        file.write(\"Financial Analysis\" + \"\\n\") \n",
    "        file.write(\"------------------------------------\"+ \"\\n\")\n",
    "        file.write(f\"Total Months: {total_months} \\n\")\n",
    "        file.write(f\"Total: ${net_total} \\n\")\n",
    "        file.write(f\"Average Change: ${avg} \\n\")\n",
    "        file.write(f\"Greatest Increase in Profits: {greatest_increase_date} (${greatest_increase_amount}) \\n\")\n",
    "        file.write(f\"Greatest Decrease in Profits: {greatest_decrease_date} (${greatest_decrease_amount}) \\n\")"
   ]
  },
  {
   "cell_type": "code",
   "execution_count": 118,
   "id": "d0dba437",
   "metadata": {},
   "outputs": [
    {
     "name": "stdout",
     "output_type": "stream",
     "text": [
      "Financial Analysis\n",
      "------------------------------------\n",
      "Total Months: 86 \n",
      "Total: $38382578 \n",
      "Average Change: $7803.48 \n",
      "Greatest Increase in Profits: Feb-12 ($1170593) \n",
      "Greatest Decrease in Profits: Sep-13 ($-1196225) \n",
      "\n"
     ]
    }
   ],
   "source": [
    "file = open(\"pybank_results.txt\", \"r\")\n",
    "print(file.read())\n",
    "\n",
    "# close txt file"
   ]
  },
  {
   "cell_type": "code",
   "execution_count": null,
   "id": "55bc4061",
   "metadata": {},
   "outputs": [],
   "source": []
  }
 ],
 "metadata": {
  "kernelspec": {
   "display_name": "Python 3",
   "language": "python",
   "name": "python3"
  },
  "language_info": {
   "codemirror_mode": {
    "name": "ipython",
    "version": 3
   },
   "file_extension": ".py",
   "mimetype": "text/x-python",
   "name": "python",
   "nbconvert_exporter": "python",
   "pygments_lexer": "ipython3",
   "version": "3.8.8"
  }
 },
 "nbformat": 4,
 "nbformat_minor": 5
}
