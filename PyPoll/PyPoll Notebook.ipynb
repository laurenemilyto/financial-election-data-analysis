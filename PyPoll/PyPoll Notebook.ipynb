{
 "cells": [
  {
   "cell_type": "code",
   "execution_count": 1,
   "id": "c57e965d",
   "metadata": {},
   "outputs": [],
   "source": [
    "# Import dependencies\n",
    "import os\n",
    "import csv\n",
    "\n",
    "#Import pypoll.csv file\n",
    "pypoll_csv = os.path.join(\"Resources\", \"election_data1.csv\")"
   ]
  },
  {
   "cell_type": "code",
   "execution_count": 2,
   "id": "3852604b",
   "metadata": {},
   "outputs": [],
   "source": [
    "# Initialize null lists\n",
    "voter_ids = []\n",
    "countys = []\n",
    "candidates = []"
   ]
  },
  {
   "cell_type": "code",
   "execution_count": 3,
   "id": "c6750a59",
   "metadata": {},
   "outputs": [],
   "source": [
    "# Read in the CSV file\n",
    "with open(pypoll_csv) as csvfile:\n",
    "\n",
    "    # Split the data on commas\n",
    "    csvreader = csv.reader(csvfile, delimiter=',')\n",
    "\n",
    "    #Read the header row\n",
    "    csv_header = next(csvreader)\n",
    "\n",
    "    # Loop through columns, adding data from csv to lists after header\n",
    "    for row in csvreader:\n",
    "        \n",
    "        voter_ids.append(int(row[0]))\n",
    "        countys.append(str(row[1]))\n",
    "        candidates.append(str(row[2])) "
   ]
  },
  {
   "cell_type": "code",
   "execution_count": 4,
   "id": "76c00738",
   "metadata": {},
   "outputs": [],
   "source": [
    "# Total votes can be found by using len to find length of voter_id list\n",
    "total_votes = len(voter_ids)"
   ]
  },
  {
   "cell_type": "code",
   "execution_count": 5,
   "id": "12e1e2f3",
   "metadata": {},
   "outputs": [],
   "source": [
    "# List created to specify unique candidates for dictionary\n",
    "unique_candidates = [\"Khan\", \"Correy\", \"Li\", \"O'Tooley\"]"
   ]
  },
  {
   "cell_type": "code",
   "execution_count": 6,
   "id": "e1a9bc07",
   "metadata": {},
   "outputs": [],
   "source": [
    "# Votes per candidate can be found using count to tally up total votes for each candidate\n",
    "votes_khan = candidates.count(\"Khan\")\n",
    "votes_correy = candidates.count(\"Correy\")\n",
    "votes_li = candidates.count(\"Li\")\n",
    "votes_otooley = candidates.count(\"O'Tooley\")\n",
    "\n",
    "votes_list = [votes_khan, votes_correy, votes_li, votes_otooley]"
   ]
  },
  {
   "cell_type": "code",
   "execution_count": 7,
   "id": "2d2b722d",
   "metadata": {},
   "outputs": [],
   "source": [
    "# Percentage of votes can be found by dividing votes_per_candidate by total_votes, multiplied by 100\n",
    "khan_percent = round((votes_khan / total_votes) * 100)\n",
    "correy_percent = round((votes_correy / total_votes) * 100)\n",
    "li_percent = round((votes_li / total_votes) * 100)\n",
    "otooley_percent = round((votes_otooley / total_votes) * 100)"
   ]
  },
  {
   "cell_type": "code",
   "execution_count": 8,
   "id": "98b5e9fb",
   "metadata": {},
   "outputs": [],
   "source": [
    "# Create percents list in order to find winner\n",
    "percents = [khan_percent,correy_percent,li_percent,otooley_percent]"
   ]
  },
  {
   "cell_type": "code",
   "execution_count": 9,
   "id": "66024e09",
   "metadata": {},
   "outputs": [],
   "source": [
    "# Zip candidate_list and votes_per_candidate list together for final output\n",
    "a_zip = zip(unique_candidates,votes_list)\n",
    "zipped_dict = dict(a_zip)"
   ]
  },
  {
   "cell_type": "code",
   "execution_count": 10,
   "id": "ce8c8378",
   "metadata": {},
   "outputs": [],
   "source": [
    "# Add values in correct order to zipped_dict for final output\n",
    "zipped_dict['Khan'] = khan_percent, votes_khan\n",
    "zipped_dict['Correy'] = correy_percent,votes_correy\n",
    "zipped_dict['Li'] = li_percent,votes_li\n",
    "zipped_dict[\"O'Tooley\"] = otooley_percent,votes_otooley"
   ]
  },
  {
   "cell_type": "code",
   "execution_count": 11,
   "id": "dd8a08c7",
   "metadata": {},
   "outputs": [],
   "source": [
    "# Create function to print dictionary for final output\n",
    "def print_txt ():\n",
    "    for key, value in zipped_dict.items():\n",
    "        print(key, ':', value)\n",
    "        continue"
   ]
  },
  {
   "cell_type": "code",
   "execution_count": 12,
   "id": "d00d9626",
   "metadata": {},
   "outputs": [],
   "source": [
    "# Find max percent within percents list to determine winner\n",
    "max_percent = max(percents)"
   ]
  },
  {
   "cell_type": "code",
   "execution_count": 13,
   "id": "8474db7a",
   "metadata": {},
   "outputs": [],
   "source": [
    "# Use index to determine candidate with max percent of votes\n",
    "winner_index = percents.index(max_percent)\n",
    "winner = candidates[winner_index]"
   ]
  },
  {
   "cell_type": "code",
   "execution_count": 35,
   "id": "03c68582",
   "metadata": {},
   "outputs": [],
   "source": [
    "# open & write txt to pypoll_results.txt\n",
    "with open (\"pypoll_results.txt\", \"w\") as file:\n",
    "    file.write(\"Election Results\" + \"\\n\") \n",
    "    file.write(\"------------------------------------\"+ \"\\n\")\n",
    "    file.write(f\"Total Votes: {total_votes} \\n\")\n",
    "    file.write(\"------------------------------------\"+ \"\\n\")\n",
    "    file.write(f\"Khan: {khan_percent}% ({votes_khan}) \\n\")\n",
    "    file.write(f\"Correy: {correy_percent}% ({votes_correy}) \\n\")\n",
    "    file.write(f\"Li: {li_percent}% ({votes_li}) \\n\")\n",
    "    file.write(f\"O'Tooley: {otooley_percent}% ({votes_otooley}) \\n\")\n",
    "    file.write(\"------------------------------------\"+ \"\\n\")\n",
    "    file.write(f\"Winner: {winner} \\n\")\n",
    "    file.write(\"------------------------------------\"+ \"\\n\")"
   ]
  },
  {
   "cell_type": "code",
   "execution_count": 36,
   "id": "fb5c0305",
   "metadata": {},
   "outputs": [
    {
     "name": "stdout",
     "output_type": "stream",
     "text": [
      "Election Results\n",
      "------------------------------------\n",
      "Total Votes: 1048575 \n",
      "------------------------------------\n",
      "Khan: 63% (661583) \n",
      "Correy: 20% (209046) \n",
      "Li: 14% (146360) \n",
      "O'Tooley: 3% (31586) \n",
      "------------------------------------\n",
      "Winner: Khan \n",
      "------------------------------------\n",
      "\n"
     ]
    }
   ],
   "source": [
    "file = open(\"pypoll_results.txt\", \"r\")\n",
    "print(file.read())\n",
    "\n",
    "# close txt file"
   ]
  }
 ],
 "metadata": {
  "kernelspec": {
   "display_name": "Python 3",
   "language": "python",
   "name": "python3"
  },
  "language_info": {
   "codemirror_mode": {
    "name": "ipython",
    "version": 3
   },
   "file_extension": ".py",
   "mimetype": "text/x-python",
   "name": "python",
   "nbconvert_exporter": "python",
   "pygments_lexer": "ipython3",
   "version": "3.8.8"
  }
 },
 "nbformat": 4,
 "nbformat_minor": 5
}
